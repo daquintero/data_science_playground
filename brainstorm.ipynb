{
 "cells": [
  {
   "cell_type": "markdown",
   "metadata": {},
   "source": [
    "# Heading System Design"
   ]
  },
  {
   "cell_type": "markdown",
   "metadata": {},
   "source": [
    "## True Heading\n",
    "\n",
    "We need to create our own true heading signals. Reducing it to mathematics as a signal in time. Then we know it is an injective one-to-one function. We can test for a step input, ramp input, and any other standard injective functions. We can also cause several sorts of different source functions. The question is what should be the control architecture for this. Maybe this bit should be MATLAB programmed. Why do one test individually rather than several systems at the same time. "
   ]
  },
  {
   "cell_type": "markdown",
   "metadata": {},
   "source": [
    "## Magnetic Compass\n",
    "\n",
    "> A magnetic compass has a mass (compass needle) that is sprung (magnetic attraction to north) and has some damping (in the needle bearing or with fluid around the needle). Its behaviour is modelled as a second order system. The input to our system is true heading\n",
    "and the output will be the indicated heading. Remember, in a real system we don’t know what the true heading is, we only see the heading indicated by the sensor: one advantage of simulations over experiment is that we can often observe variables that are\n",
    "unavailable to us in the real world. You should note that this model of the compass only describes one degree of freedom (rotation in 1 axis) and is highly simplified for this\n",
    "coursework!"
   ]
  },
  {
   "cell_type": "markdown",
   "metadata": {},
   "source": [
    "#### Requirements\n",
    "\n",
    "> S4.1 Construct a model of a magnetic compass. Represent the compass as a second order system with unity sensitivity, rise time 0.4s and settling time 18s. The input to your compass model will be true heading and the output will be the heading indicated by the compass needle.\n",
    ">\n",
    "> S4.2 Produce a Bode plot (gain and phase frequency response) of the compass and use this to identify the useable frequency range of this sensor\n",
    "\n",
    "So that is in general the model of the system. Seeing our listed requirements:\n",
    "\n",
    "* Rise time: 0.4s\n",
    "* Settling Time: 18s\n",
    "* Input: True Heading\n",
    "* Output: Indicated Heading"
   ]
  },
  {
   "cell_type": "markdown",
   "metadata": {},
   "source": [
    "#### Theory\n",
    "\n",
    "We can simplify this as a simple discrete spring-damped-mass using this diagram:\n",
    "\n",
    "![img](img/spring_mass_damper_system.png)"
   ]
  },
  {
   "cell_type": "markdown",
   "metadata": {},
   "source": [
    "Note this follows these transfer function principles:\n",
    "$ {\\displaystyle {\\ddot {x}}+2\\zeta \\omega _{n}{\\dot {x}}+\\omega _{n}^{2}x=u} $"
   ]
  },
  {
   "cell_type": "markdown",
   "metadata": {},
   "source": [
    "And these principles\n",
    "${\\displaystyle \\omega _{n}={\\sqrt {\\frac {k}{m}}};\\quad \\zeta ={\\frac {c}{2m\\omega _{n}}};\\quad u={\\frac {F_{external}}{m}}}$"
   ]
  },
  {
   "cell_type": "markdown",
   "metadata": {},
   "source": [
    "> The step input, i.e. from 0 to 1 at t=0, is a\n",
    "useful signal to characterise systems. The\n",
    "characteristics rise time, settling time and\n",
    "sensitivity describe how a second order\n",
    "system responds to a unit step input.\n",
    "The sensitivity is the level to which the\n",
    "output eventually settles; the rise time of\n",
    "a system is the time taken to go from 10%\n",
    "to 90% of that level; and the settling time\n",
    "is the time after which the output\n",
    "remains within ±5% of the steady state\n",
    "level. See fig. 6 for graphical explanations."
   ]
  },
  {
   "cell_type": "markdown",
   "metadata": {},
   "source": [
    "Note that in order to get the rise and fall times, the approximation functions depend on the damping and state of the system. So ideally, we should ideally derive the parameters required. The equations that describe the rise time and settingling time accordingly depend on the assumptions of that."
   ]
  },
  {
   "cell_type": "markdown",
   "metadata": {},
   "source": [
    "#### Application\n",
    "\n",
    "* $t_{rise} = 0.4$\n",
    "* $t_{settling} = 18$\n",
    "* $k_{sensitivity} = 1$\n",
    "\n",
    "Input\n",
    "* Step signal\n",
    "\n",
    "We are given some approximations for the time domain characteristics that we could use (justify applicability?):\n",
    "\n",
    "> If the damping is low, i.e. $\\zeta << 1$, then we can approximate the time\n",
    "domain characteristics as\n",
    ">\n",
    "> \\begin{equation}\n",
    "t_{rise} \\approx \\frac{1.02}{w_n}\n",
    "\\end{equation}\n",
    ">\n",
    "> and \n",
    ">\n",
    "> \\begin{equation}\n",
    "t_{settling} \\approx \\frac{3}{w_n\\zeta}\n",
    "\\end{equation}\n",
    "\n",
    "What if the damping is larger? Although the quote mentions: \"some daming\", but how much is not that much. Note that in order to get the correct frequency range."
   ]
  },
  {
   "cell_type": "markdown",
   "metadata": {},
   "source": [
    "We could rewrite these as:\n",
    "\n",
    "$$w_n \\approx \\frac{1.02}{t_{rise}}$$\n",
    "\n",
    "and \n",
    "\n",
    "$$\\zeta \\approx \\frac{3}{w_n t_{settling}} \n",
    "\\approx \\frac{3 t_{rise}}{1.02 t_{settling}}\n",
    "\\approx 2.94 \\frac{t_{rise}}{t_{settling}} $$\n",
    "\n",
    "Note that this means that an undamped, oscillatory system is likely to result? We want to minimize rise time but reach a steady state value.\n",
    "\n",
    "Note that if $w_n$ is natural frequency and also $2\\pi f$ then there is a factor of $2\\pi$ that must be accounted for when discussing the soltuions."
   ]
  },
  {
   "cell_type": "markdown",
   "metadata": {},
   "source": [
    "Second Order Transfer Function\n",
    "\\begin{equation}\n",
    "c\\ddot{y}(t) + b\\dot{y}(t) + ay(t) = e\\dot{u}(t) + fu(t)\n",
    "\\end{equation}\n",
    "\n",
    "Solving via Laplace:\n",
    "\\begin{equation}\n",
    "\\frac{Y(s)}{U(s)} = \\frac{es + f}{cs^2 + bs + a}\n",
    "\\end{equation}\n",
    "\n",
    "Note we can equate this to a standard second order system:\n",
    "\n",
    "\\begin{equation}\n",
    "\\frac{w^{2}_{n}}{s^2 + 2 \\zeta w_n s + w^{2}_{n}} \n",
    "\\end{equation}\n",
    "\n",
    "Note $w_n$ is the natural frequency.\n",
    "\n",
    "We can then generically say:"
   ]
  },
  {
   "cell_type": "markdown",
   "metadata": {},
   "source": [
    "\\begin{equation}\n",
    "\\frac{Y(s)}{U(s)} = \\frac{es + f}{cs^2 + bs + a} = \\frac{w^{2}_{n}}{s^2 + 2 \\zeta w_n s + w^{2}_{n}} \n",
    "\\end{equation}"
   ]
  },
  {
   "cell_type": "markdown",
   "metadata": {},
   "source": [
    "Note that if we write the denominators and numerators in matrix form, then the length of the array determines the order of that specific expression."
   ]
  },
  {
   "cell_type": "markdown",
   "metadata": {},
   "source": [
    "## Gyro Compass\n",
    "\n",
    "> The gyro-compass is more complex to model, so we will build up a representative model from what we know of its behaviour.\n",
    "An ideal gyro would remain spinning in the axis in which it was initialised, irrespective of the movement of the support gimbal. However since the support bearing will suffer some\n",
    "friction, changes in the heading of the aircraft will tend to introduce errors gyro."
   ]
  },
  {
   "cell_type": "markdown",
   "metadata": {},
   "source": [
    "#### Requirements\n",
    "> S4.3 Construct a model of a gyro compass. Represent the gyro-compass as an\n",
    "ideal sensor with error modelled as integrated white noise with an offset, e.g. Fig.\n",
    "8.\n",
    ">\n",
    "> S4.4 Sketch the frequency spectrum of the output of the random number block,\n",
    "and the gain frequency response of an integrator, hence sketch the frequency spectrum of the error signal added to the true heading.\n",
    ">\n",
    "> S4.5 Suggest the useable frequency range of the gyro compass – note it is not possible to quantify in the same way as the magnetic compass."
   ]
  },
  {
   "cell_type": "markdown",
   "metadata": {},
   "source": [
    "Note that we're inputting into the system the rawHeading, and are adding the noise from gyro errors."
   ]
  },
  {
   "cell_type": "markdown",
   "metadata": {},
   "source": [
    "#### Theory\n",
    "\n",
    "> Gyro Law:\n",
    "\\begin{equation}\n",
    "T = h\\dot{\\theta_m}\n",
    "\\end{equation}\n",
    "> Implies that due to the large value of the angular momentum, $h$,\n",
    "of the spinning mass, the disturbance torque $T$ (caused by gimbal bearing friction as the gyro outer frame moves with the aircraft), leads only to small rotation rates of the gyro\n",
    "mass spin axis, $\\dot{\\theta_m}$\n",
    "\n",
    "Potentially described by this diagram:\n",
    "\n",
    "![img](img/gyro_diagram.gif)"
   ]
  },
  {
   "cell_type": "markdown",
   "metadata": {},
   "source": [
    "> Ideally the gyro axis would not rotate at all, thereby providing a constant directional reference, so the angle $\\theta_m$ represents the gyro measurement error. To model this error, we integrate the equation, giving $\\theta_m = \\frac{1}{h} \\int{T} dt$ (assuming that the gyro was initialized without error)\n",
    ">\n",
    "> If we assume the disturbance torque is caused by aircraft heading changes and by buffeting of the aircraft, and these are random in nature, we can model them with the ‘random number’ Simulink block.\n",
    ">\n",
    "> In addition, the gyro will also drift slowly over time, which can be due to the spinning of the earth and the aircrafts velocity, and manufacturing/construction limitations. This is\n",
    "generally a slower effect in real systems but to capture it here we can add a mean value (offset) to our random number.\n",
    "> \n",
    "> Therefore, modelling the disturbance torque $T$ as a Gaussian random signal, a Simulink model of a gyro would look like that shown in fig. 8. Important: you should set the standard deviation of the random number to 0.1, which gives a reasonable value for h, and set the\n",
    "mean to ~0.02 which should give you around 1.5o per minute drift"
   ]
  },
  {
   "cell_type": "markdown",
   "metadata": {},
   "source": [
    "The Laplace and transfer function of this model is equivalent to :\n",
    "    \n",
    "\\begin{equation}\n",
    "T = sh\\theta_m\n",
    "\\end{equation}\n",
    "\n",
    "\\begin{equation}\n",
    "\\frac{\\theta_m}{T} = \\frac{1}{sh}\n",
    "\\end{equation}"
   ]
  },
  {
   "cell_type": "markdown",
   "metadata": {},
   "source": [
    "Assuming this is the function just for the integrator, we can already model the frequency response for it, assuming the initialization offset is 0. We approximate the angular momentum of the spinning mass, h, of the gimbal by instead analysing the expeected response of the gyroscope to input torque. We can't use a bode function since we do not know the value of the h angular momentum of the gimbal mass."
   ]
  },
  {
   "cell_type": "markdown",
   "metadata": {},
   "source": [
    "#### Applications\n",
    "\n",
    "We're pretty much assuming a first order system. \n",
    "\n",
    "* Mean = 0.02\n",
    "* Standard Deviation = 0.1 = $\\sigma$, variance = $\\sigma^2$ = 0.01"
   ]
  },
  {
   "cell_type": "markdown",
   "metadata": {},
   "source": [
    "The standard form of a first order system is:\n",
    "\n",
    "\\begin{equation}\n",
    "\\tau \\dot{y} + y = ku\n",
    "\\end{equation}"
   ]
  },
  {
   "cell_type": "markdown",
   "metadata": {},
   "source": [
    "> The differential equation for a first order system (e.g. a system with one energy storage\n",
    "element) in standard form is where τ is known as the time constant and k is\n",
    "the sensitivity.\n",
    "Considering the response of the system to a sinusoidal input, the steady state gain is the\n",
    "ratio of output magnitude over input magnitude (after any transients have died out). The\n",
    "bandwidth is determined from a graph of steady state gain against frequency and is\n",
    "defined as the frequency at which the steady state gain drops to 1/√2 of its ‘passband’\n",
    "level, i.e. the gain in the region where the graph is flat. The phase response of the system\n",
    "is defined as the phase shift between the input and output waveforms.The differential equation for a first order system (e.g. a system with one energy storage\n",
    "element) in standard form is where τ is known as the time constant and k is\n",
    "the sensitivity.\n",
    "Considering the response of the system to a sinusoidal input, the steady state gain is the\n",
    "ratio of output magnitude over input magnitude (after any transients have died out). The\n",
    "bandwidth is determined from a graph of steady state gain against frequency and is\n",
    "defined as the frequency at which the steady state gain drops to 1/√2 of its ‘passband’\n",
    "level, i.e. the gain in the region where the graph is flat. The phase response of the system\n",
    "is defined as the phase shift between the input and output waveforms.\n",
    ">\n",
    "> B3.8 Determine the transfer function of a first order dynamic system with time\n",
    "constant 0.01s and unity static sensitivity (i.e. sensitivity of 1).\n",
    ">\n",
    ">B3.9 Simulate the response of this system model to a sinusoidal input. Obtain\n",
    "results for several input frequencies in the range 10rad/s to 1000rad/s. Use can\n",
    "use your data to construct an approximate plot of steady state gain verses\n",
    "frequency, and of phase response verses frequency. Can you identify the\n",
    "bandwidth of the system?"
   ]
  },
  {
   "cell_type": "markdown",
   "metadata": {},
   "source": [
    "We calculate the Laplace form of the system:\n",
    "\n",
    "\\begin{equation}\n",
    "s\\tau y + y = ku\n",
    "\\end{equation}\n",
    "\n",
    "\\begin{equation}\n",
    "\\frac{y}{u} = \\frac{k}{s\\tau + 1}\n",
    "\\end{equation}\n"
   ]
  },
  {
   "cell_type": "markdown",
   "metadata": {},
   "source": [
    "Note that this transfer function applies for a number of inputs and variables. Hence we have a numerator of $k=1$ and denominator \\[ $\\tau$  1\\]"
   ]
  },
  {
   "cell_type": "markdown",
   "metadata": {},
   "source": [
    "However, for the gyroscope law transfer function with an input heading and output "
   ]
  },
  {
   "cell_type": "markdown",
   "metadata": {},
   "source": [
    "## Complimentary Filters\n",
    "\n",
    "> You have now described the two sensors and have determined some characteristics of each, hopefully you will have found that their negative characteristics do not completely\n",
    "overlap.\n",
    ">\n",
    "> We now need to combine the output of these sensors in a way that produces a better estimate of heading than either one used alone – this is called sensor fusion\n",
    "> Since we have seen the sensors differ in frequency domain, we are going to weight the\n",
    "output of each individual sensor according to frequency, thus combining the low\n",
    "frequency information from one sensor with the high frequency information of the other.\n",
    "This approach is one of the simplest in sensor fusion and involves complimentary filters\n",
    "Two filters, $H_1(s)$ and $H_2(s)$ are complementary if $H_1(s) + H_2(s) = 1$ for all s.\n"
   ]
  },
  {
   "cell_type": "markdown",
   "metadata": {},
   "source": [
    "#### Requirements\n",
    "> S4.6 Determine the transfer functions for a pair of complementary first order filters with gain of ‘1’ in the pass band. Choose a suitable cut-off frequency for your filters based on the results of T4.2/T4.5. "
   ]
  },
  {
   "cell_type": "markdown",
   "metadata": {},
   "source": [
    "> A low pass filter transfer function in Laplace is:\n",
    "> \n",
    ">\\begin{equation}\n",
    "{\\frac  {{\\text{Output}}}{{\\text{Input}}}}=K{\\frac  {1}{\\tau s+1}}\n",
    "\\end{equation}\n",
    "> where s is the Laplace transform variable, τ is the filter time constant, and K is the gain of the filter in the passband.\n",
    ">\n",
    "> The break frequency, also called the turnover frequency, corner frequency, or cutoff frequency (in hertz), is determined by the time constant:\n",
    "> \\begin{equation}\n",
    "f_\\mathrm{c} = {1 \\over 2 \\pi \\tau } = {1 \\over 2 \\pi R C}\n",
    "\\end{equation}\n",
    ">\n",
    "> \\begin{equation}\n",
    "\\omega_\\mathrm{c} = {1 \\over \\tau} = {1 \\over R C}\n",
    "\\end{equation}"
   ]
  },
  {
   "cell_type": "markdown",
   "metadata": {},
   "source": [
    "If we know the time constant, and since MATLAB has its frequencies in Radians, we can simply go for $\\omega_C$\n",
    "\n",
    "![img](img/low_pass_filter.png)"
   ]
  },
  {
   "cell_type": "markdown",
   "metadata": {},
   "source": [
    "How do we numerically model the random integrator?"
   ]
  },
  {
   "cell_type": "markdown",
   "metadata": {},
   "source": [
    "For the gyro filter we can add a bandpass "
   ]
  }
 ],
 "metadata": {
  "kernelspec": {
   "display_name": "Python 3",
   "language": "python",
   "name": "python3"
  },
  "language_info": {
   "codemirror_mode": {
    "name": "ipython",
    "version": 3
   },
   "file_extension": ".py",
   "mimetype": "text/x-python",
   "name": "python",
   "nbconvert_exporter": "python",
   "pygments_lexer": "ipython3",
   "version": "3.6.3"
  }
 },
 "nbformat": 4,
 "nbformat_minor": 4
}
