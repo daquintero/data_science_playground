{
 "cells": [
  {
   "cell_type": "markdown",
   "metadata": {},
   "source": [
    "Second Order Transfer Function\n",
    "\\begin{equation}\n",
    "c\\ddot{y}(t) + b\\dot{y}(t) + ay(t) = e\\dot{u}(t) + fu(t)\n",
    "\\end{equation}\n",
    "\n",
    "Solving via Laplace:\n",
    "\\begin{equation}\n",
    "\\frac{Y(s)}{U(s)} = \\frac{es + f}{cs^2 + bs + a}\n",
    "\\end{equation}"
   ]
  },
  {
   "cell_type": "code",
   "execution_count": null,
   "metadata": {},
   "outputs": [],
   "source": []
  }
 ],
 "metadata": {
  "kernelspec": {
   "display_name": "Python 3",
   "language": "python",
   "name": "python3"
  },
  "language_info": {
   "codemirror_mode": {
    "name": "ipython",
    "version": 3
   },
   "file_extension": ".py",
   "mimetype": "text/x-python",
   "name": "python",
   "nbconvert_exporter": "python",
   "pygments_lexer": "ipython3",
   "version": "3.6.3"
  }
 },
 "nbformat": 4,
 "nbformat_minor": 4
}
