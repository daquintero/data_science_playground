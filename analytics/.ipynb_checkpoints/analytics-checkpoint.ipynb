{
 "cells": [
  {
   "cell_type": "code",
   "execution_count": 8,
   "metadata": {},
   "outputs": [],
   "source": [
    "import pandas as pd\n",
    "import matplotlib.pyplot as plt"
   ]
  },
  {
   "cell_type": "code",
   "execution_count": 9,
   "metadata": {},
   "outputs": [
    {
     "data": {
      "text/html": [
       "<div>\n",
       "<style scoped>\n",
       "    .dataframe tbody tr th:only-of-type {\n",
       "        vertical-align: middle;\n",
       "    }\n",
       "\n",
       "    .dataframe tbody tr th {\n",
       "        vertical-align: top;\n",
       "    }\n",
       "\n",
       "    .dataframe thead th {\n",
       "        text-align: right;\n",
       "    }\n",
       "</style>\n",
       "<table border=\"1\" class=\"dataframe\">\n",
       "  <thead>\n",
       "    <tr style=\"text-align: right;\">\n",
       "      <th></th>\n",
       "      <th>signalsNamesOrdered</th>\n",
       "      <th>maxSignals</th>\n",
       "      <th>minSignals</th>\n",
       "      <th>meanSignals</th>\n",
       "      <th>standardDeviationSignals</th>\n",
       "      <th>varianceSignals</th>\n",
       "      <th>kurtosisSignals</th>\n",
       "      <th>skewnessSignals</th>\n",
       "      <th>firstMomentSignals</th>\n",
       "      <th>secondMomentSignals</th>\n",
       "      <th>thirdMomentSignals</th>\n",
       "      <th>fourthMomentSignals</th>\n",
       "    </tr>\n",
       "  </thead>\n",
       "  <tbody>\n",
       "    <tr>\n",
       "      <th>0</th>\n",
       "      <td>compassSystem</td>\n",
       "      <td>1.806514</td>\n",
       "      <td>0.000000</td>\n",
       "      <td>0.987589</td>\n",
       "      <td>0.220810</td>\n",
       "      <td>0.048757</td>\n",
       "      <td>10.667718</td>\n",
       "      <td>-1.063682</td>\n",
       "      <td>0</td>\n",
       "      <td>0.048637</td>\n",
       "      <td>-0.011409</td>\n",
       "      <td>0.025235</td>\n",
       "    </tr>\n",
       "    <tr>\n",
       "      <th>1</th>\n",
       "      <td>compassFilter</td>\n",
       "      <td>1.570769</td>\n",
       "      <td>0.000000</td>\n",
       "      <td>0.978267</td>\n",
       "      <td>0.198351</td>\n",
       "      <td>0.039343</td>\n",
       "      <td>14.564642</td>\n",
       "      <td>-2.440525</td>\n",
       "      <td>0</td>\n",
       "      <td>0.039246</td>\n",
       "      <td>-0.018975</td>\n",
       "      <td>0.022433</td>\n",
       "    </tr>\n",
       "    <tr>\n",
       "      <th>2</th>\n",
       "      <td>fullSystem</td>\n",
       "      <td>1.594510</td>\n",
       "      <td>0.489326</td>\n",
       "      <td>1.007696</td>\n",
       "      <td>0.136793</td>\n",
       "      <td>0.018712</td>\n",
       "      <td>8.735727</td>\n",
       "      <td>0.167804</td>\n",
       "      <td>0</td>\n",
       "      <td>0.018666</td>\n",
       "      <td>0.000428</td>\n",
       "      <td>0.003044</td>\n",
       "    </tr>\n",
       "    <tr>\n",
       "      <th>3</th>\n",
       "      <td>gyroFilter</td>\n",
       "      <td>1.000000</td>\n",
       "      <td>-0.028418</td>\n",
       "      <td>0.029429</td>\n",
       "      <td>0.122868</td>\n",
       "      <td>0.015096</td>\n",
       "      <td>50.119324</td>\n",
       "      <td>6.780436</td>\n",
       "      <td>0</td>\n",
       "      <td>0.015059</td>\n",
       "      <td>0.012530</td>\n",
       "      <td>0.011366</td>\n",
       "    </tr>\n",
       "    <tr>\n",
       "      <th>4</th>\n",
       "      <td>gyroSystem</td>\n",
       "      <td>2.003874</td>\n",
       "      <td>1.000000</td>\n",
       "      <td>1.487665</td>\n",
       "      <td>0.285500</td>\n",
       "      <td>0.081510</td>\n",
       "      <td>1.902507</td>\n",
       "      <td>0.171984</td>\n",
       "      <td>0</td>\n",
       "      <td>0.081309</td>\n",
       "      <td>0.003987</td>\n",
       "      <td>0.012578</td>\n",
       "    </tr>\n",
       "    <tr>\n",
       "      <th>5</th>\n",
       "      <td>input</td>\n",
       "      <td>1.000000</td>\n",
       "      <td>1.000000</td>\n",
       "      <td>1.000000</td>\n",
       "      <td>0.000000</td>\n",
       "      <td>0.000000</td>\n",
       "      <td>NaN</td>\n",
       "      <td>NaN</td>\n",
       "      <td>0</td>\n",
       "      <td>0.000000</td>\n",
       "      <td>0.000000</td>\n",
       "      <td>0.000000</td>\n",
       "    </tr>\n",
       "  </tbody>\n",
       "</table>\n",
       "</div>"
      ],
      "text/plain": [
       "  signalsNamesOrdered  maxSignals  minSignals  meanSignals  \\\n",
       "0       compassSystem    1.806514    0.000000     0.987589   \n",
       "1       compassFilter    1.570769    0.000000     0.978267   \n",
       "2          fullSystem    1.594510    0.489326     1.007696   \n",
       "3          gyroFilter    1.000000   -0.028418     0.029429   \n",
       "4          gyroSystem    2.003874    1.000000     1.487665   \n",
       "5               input    1.000000    1.000000     1.000000   \n",
       "\n",
       "   standardDeviationSignals  varianceSignals  kurtosisSignals  \\\n",
       "0                  0.220810         0.048757        10.667718   \n",
       "1                  0.198351         0.039343        14.564642   \n",
       "2                  0.136793         0.018712         8.735727   \n",
       "3                  0.122868         0.015096        50.119324   \n",
       "4                  0.285500         0.081510         1.902507   \n",
       "5                  0.000000         0.000000              NaN   \n",
       "\n",
       "   skewnessSignals  firstMomentSignals  secondMomentSignals  \\\n",
       "0        -1.063682                   0             0.048637   \n",
       "1        -2.440525                   0             0.039246   \n",
       "2         0.167804                   0             0.018666   \n",
       "3         6.780436                   0             0.015059   \n",
       "4         0.171984                   0             0.081309   \n",
       "5              NaN                   0             0.000000   \n",
       "\n",
       "   thirdMomentSignals  fourthMomentSignals  \n",
       "0           -0.011409             0.025235  \n",
       "1           -0.018975             0.022433  \n",
       "2            0.000428             0.003044  \n",
       "3            0.012530             0.011366  \n",
       "4            0.003987             0.012578  \n",
       "5            0.000000             0.000000  "
      ]
     },
     "execution_count": 9,
     "metadata": {},
     "output_type": "execute_result"
    }
   ],
   "source": [
    "stepAnalytics = pd.read_csv(\"stepAnalytics.csv\")\n",
    "stepAnalytics"
   ]
  },
  {
   "cell_type": "code",
   "execution_count": 10,
   "metadata": {},
   "outputs": [
    {
     "data": {
      "text/html": [
       "<div>\n",
       "<style scoped>\n",
       "    .dataframe tbody tr th:only-of-type {\n",
       "        vertical-align: middle;\n",
       "    }\n",
       "\n",
       "    .dataframe tbody tr th {\n",
       "        vertical-align: top;\n",
       "    }\n",
       "\n",
       "    .dataframe thead th {\n",
       "        text-align: right;\n",
       "    }\n",
       "</style>\n",
       "<table border=\"1\" class=\"dataframe\">\n",
       "  <thead>\n",
       "    <tr style=\"text-align: right;\">\n",
       "      <th></th>\n",
       "      <th>signalsNamesOrdered</th>\n",
       "      <th>maxSignals</th>\n",
       "      <th>minSignals</th>\n",
       "      <th>meanSignals</th>\n",
       "      <th>standardDeviationSignals</th>\n",
       "      <th>varianceSignals</th>\n",
       "      <th>kurtosisSignals</th>\n",
       "      <th>skewnessSignals</th>\n",
       "      <th>firstMomentSignals</th>\n",
       "      <th>secondMomentSignals</th>\n",
       "      <th>thirdMomentSignals</th>\n",
       "      <th>fourthMomentSignals</th>\n",
       "    </tr>\n",
       "  </thead>\n",
       "  <tbody>\n",
       "    <tr>\n",
       "      <th>0</th>\n",
       "      <td>compassSystem</td>\n",
       "      <td>14.959964</td>\n",
       "      <td>0</td>\n",
       "      <td>7.292421</td>\n",
       "      <td>4.471143</td>\n",
       "      <td>19.991120</td>\n",
       "      <td>1.809192</td>\n",
       "      <td>-0.006107</td>\n",
       "      <td>0</td>\n",
       "      <td>19.861307</td>\n",
       "      <td>-0.540532</td>\n",
       "      <td>713.674622</td>\n",
       "    </tr>\n",
       "    <tr>\n",
       "      <th>1</th>\n",
       "      <td>compassFilter</td>\n",
       "      <td>14.592565</td>\n",
       "      <td>0</td>\n",
       "      <td>6.933781</td>\n",
       "      <td>4.438273</td>\n",
       "      <td>19.698270</td>\n",
       "      <td>1.782974</td>\n",
       "      <td>0.015622</td>\n",
       "      <td>0</td>\n",
       "      <td>19.570359</td>\n",
       "      <td>1.352514</td>\n",
       "      <td>682.877309</td>\n",
       "    </tr>\n",
       "    <tr>\n",
       "      <th>2</th>\n",
       "      <td>fullSystem</td>\n",
       "      <td>14.984624</td>\n",
       "      <td>0</td>\n",
       "      <td>7.302275</td>\n",
       "      <td>4.465328</td>\n",
       "      <td>19.939152</td>\n",
       "      <td>1.800204</td>\n",
       "      <td>-0.002243</td>\n",
       "      <td>0</td>\n",
       "      <td>19.809677</td>\n",
       "      <td>-0.197753</td>\n",
       "      <td>706.441931</td>\n",
       "    </tr>\n",
       "    <tr>\n",
       "      <th>3</th>\n",
       "      <td>gyroFilter</td>\n",
       "      <td>0.411057</td>\n",
       "      <td>0</td>\n",
       "      <td>0.368494</td>\n",
       "      <td>0.068104</td>\n",
       "      <td>0.004638</td>\n",
       "      <td>21.682958</td>\n",
       "      <td>-4.333507</td>\n",
       "      <td>0</td>\n",
       "      <td>0.004608</td>\n",
       "      <td>-0.001356</td>\n",
       "      <td>0.000460</td>\n",
       "    </tr>\n",
       "    <tr>\n",
       "      <th>4</th>\n",
       "      <td>gyroSystem</td>\n",
       "      <td>15.369823</td>\n",
       "      <td>0</td>\n",
       "      <td>7.548803</td>\n",
       "      <td>4.556636</td>\n",
       "      <td>20.762930</td>\n",
       "      <td>1.790214</td>\n",
       "      <td>0.004617</td>\n",
       "      <td>0</td>\n",
       "      <td>20.628105</td>\n",
       "      <td>0.432608</td>\n",
       "      <td>761.769778</td>\n",
       "    </tr>\n",
       "    <tr>\n",
       "      <th>5</th>\n",
       "      <td>input</td>\n",
       "      <td>15.000000</td>\n",
       "      <td>0</td>\n",
       "      <td>7.354259</td>\n",
       "      <td>4.452833</td>\n",
       "      <td>19.827725</td>\n",
       "      <td>1.793302</td>\n",
       "      <td>0.005245</td>\n",
       "      <td>0</td>\n",
       "      <td>19.698974</td>\n",
       "      <td>0.458561</td>\n",
       "      <td>695.889972</td>\n",
       "    </tr>\n",
       "  </tbody>\n",
       "</table>\n",
       "</div>"
      ],
      "text/plain": [
       "  signalsNamesOrdered  maxSignals  minSignals  meanSignals  \\\n",
       "0       compassSystem   14.959964           0     7.292421   \n",
       "1       compassFilter   14.592565           0     6.933781   \n",
       "2          fullSystem   14.984624           0     7.302275   \n",
       "3          gyroFilter    0.411057           0     0.368494   \n",
       "4          gyroSystem   15.369823           0     7.548803   \n",
       "5               input   15.000000           0     7.354259   \n",
       "\n",
       "   standardDeviationSignals  varianceSignals  kurtosisSignals  \\\n",
       "0                  4.471143        19.991120         1.809192   \n",
       "1                  4.438273        19.698270         1.782974   \n",
       "2                  4.465328        19.939152         1.800204   \n",
       "3                  0.068104         0.004638        21.682958   \n",
       "4                  4.556636        20.762930         1.790214   \n",
       "5                  4.452833        19.827725         1.793302   \n",
       "\n",
       "   skewnessSignals  firstMomentSignals  secondMomentSignals  \\\n",
       "0        -0.006107                   0            19.861307   \n",
       "1         0.015622                   0            19.570359   \n",
       "2        -0.002243                   0            19.809677   \n",
       "3        -4.333507                   0             0.004608   \n",
       "4         0.004617                   0            20.628105   \n",
       "5         0.005245                   0            19.698974   \n",
       "\n",
       "   thirdMomentSignals  fourthMomentSignals  \n",
       "0           -0.540532           713.674622  \n",
       "1            1.352514           682.877309  \n",
       "2           -0.197753           706.441931  \n",
       "3           -0.001356             0.000460  \n",
       "4            0.432608           761.769778  \n",
       "5            0.458561           695.889972  "
      ]
     },
     "execution_count": 10,
     "metadata": {},
     "output_type": "execute_result"
    }
   ],
   "source": [
    "rampAnalytics = pd.read_csv(\"rampAnalytics.csv\")\n",
    "rampAnalytics"
   ]
  },
  {
   "cell_type": "code",
   "execution_count": 11,
   "metadata": {},
   "outputs": [
    {
     "data": {
      "text/html": [
       "<div>\n",
       "<style scoped>\n",
       "    .dataframe tbody tr th:only-of-type {\n",
       "        vertical-align: middle;\n",
       "    }\n",
       "\n",
       "    .dataframe tbody tr th {\n",
       "        vertical-align: top;\n",
       "    }\n",
       "\n",
       "    .dataframe thead th {\n",
       "        text-align: right;\n",
       "    }\n",
       "</style>\n",
       "<table border=\"1\" class=\"dataframe\">\n",
       "  <thead>\n",
       "    <tr style=\"text-align: right;\">\n",
       "      <th></th>\n",
       "      <th>signalsNamesOrdered</th>\n",
       "      <th>maxSignals</th>\n",
       "      <th>minSignals</th>\n",
       "      <th>meanSignals</th>\n",
       "      <th>standardDeviationSignals</th>\n",
       "      <th>varianceSignals</th>\n",
       "      <th>kurtosisSignals</th>\n",
       "      <th>skewnessSignals</th>\n",
       "      <th>firstMomentSignals</th>\n",
       "      <th>secondMomentSignals</th>\n",
       "      <th>thirdMomentSignals</th>\n",
       "      <th>fourthMomentSignals</th>\n",
       "    </tr>\n",
       "  </thead>\n",
       "  <tbody>\n",
       "    <tr>\n",
       "      <th>0</th>\n",
       "      <td>compassSystem</td>\n",
       "      <td>1.499320</td>\n",
       "      <td>-1.249857</td>\n",
       "      <td>0.058792</td>\n",
       "      <td>0.834791</td>\n",
       "      <td>0.696876</td>\n",
       "      <td>1.586203</td>\n",
       "      <td>-0.056434</td>\n",
       "      <td>0</td>\n",
       "      <td>0.694908</td>\n",
       "      <td>-0.032691</td>\n",
       "      <td>0.765973</td>\n",
       "    </tr>\n",
       "    <tr>\n",
       "      <th>1</th>\n",
       "      <td>compassFilter</td>\n",
       "      <td>1.336873</td>\n",
       "      <td>-1.150521</td>\n",
       "      <td>0.059590</td>\n",
       "      <td>0.778543</td>\n",
       "      <td>0.606129</td>\n",
       "      <td>1.581543</td>\n",
       "      <td>-0.085701</td>\n",
       "      <td>0</td>\n",
       "      <td>0.604417</td>\n",
       "      <td>-0.040271</td>\n",
       "      <td>0.577769</td>\n",
       "    </tr>\n",
       "    <tr>\n",
       "      <th>2</th>\n",
       "      <td>fullSystem</td>\n",
       "      <td>1.288865</td>\n",
       "      <td>-1.209016</td>\n",
       "      <td>0.067926</td>\n",
       "      <td>0.800857</td>\n",
       "      <td>0.641372</td>\n",
       "      <td>1.555518</td>\n",
       "      <td>-0.087664</td>\n",
       "      <td>0</td>\n",
       "      <td>0.639560</td>\n",
       "      <td>-0.044838</td>\n",
       "      <td>0.636264</td>\n",
       "    </tr>\n",
       "    <tr>\n",
       "      <th>3</th>\n",
       "      <td>gyroFilter</td>\n",
       "      <td>0.376583</td>\n",
       "      <td>-0.369149</td>\n",
       "      <td>0.008335</td>\n",
       "      <td>0.247980</td>\n",
       "      <td>0.061494</td>\n",
       "      <td>1.522138</td>\n",
       "      <td>-0.024217</td>\n",
       "      <td>0</td>\n",
       "      <td>0.061320</td>\n",
       "      <td>-0.000368</td>\n",
       "      <td>0.005724</td>\n",
       "    </tr>\n",
       "    <tr>\n",
       "      <th>4</th>\n",
       "      <td>gyroSystem</td>\n",
       "      <td>1.847726</td>\n",
       "      <td>-0.875123</td>\n",
       "      <td>0.478218</td>\n",
       "      <td>0.741756</td>\n",
       "      <td>0.550202</td>\n",
       "      <td>1.810414</td>\n",
       "      <td>-0.051735</td>\n",
       "      <td>0</td>\n",
       "      <td>0.548648</td>\n",
       "      <td>-0.021025</td>\n",
       "      <td>0.544961</td>\n",
       "    </tr>\n",
       "    <tr>\n",
       "      <th>5</th>\n",
       "      <td>input</td>\n",
       "      <td>0.999994</td>\n",
       "      <td>-0.999990</td>\n",
       "      <td>0.053285</td>\n",
       "      <td>0.698360</td>\n",
       "      <td>0.487707</td>\n",
       "      <td>1.549910</td>\n",
       "      <td>-0.119723</td>\n",
       "      <td>0</td>\n",
       "      <td>0.486329</td>\n",
       "      <td>-0.040605</td>\n",
       "      <td>0.366578</td>\n",
       "    </tr>\n",
       "  </tbody>\n",
       "</table>\n",
       "</div>"
      ],
      "text/plain": [
       "  signalsNamesOrdered  maxSignals  minSignals  meanSignals  \\\n",
       "0       compassSystem    1.499320   -1.249857     0.058792   \n",
       "1       compassFilter    1.336873   -1.150521     0.059590   \n",
       "2          fullSystem    1.288865   -1.209016     0.067926   \n",
       "3          gyroFilter    0.376583   -0.369149     0.008335   \n",
       "4          gyroSystem    1.847726   -0.875123     0.478218   \n",
       "5               input    0.999994   -0.999990     0.053285   \n",
       "\n",
       "   standardDeviationSignals  varianceSignals  kurtosisSignals  \\\n",
       "0                  0.834791         0.696876         1.586203   \n",
       "1                  0.778543         0.606129         1.581543   \n",
       "2                  0.800857         0.641372         1.555518   \n",
       "3                  0.247980         0.061494         1.522138   \n",
       "4                  0.741756         0.550202         1.810414   \n",
       "5                  0.698360         0.487707         1.549910   \n",
       "\n",
       "   skewnessSignals  firstMomentSignals  secondMomentSignals  \\\n",
       "0        -0.056434                   0             0.694908   \n",
       "1        -0.085701                   0             0.604417   \n",
       "2        -0.087664                   0             0.639560   \n",
       "3        -0.024217                   0             0.061320   \n",
       "4        -0.051735                   0             0.548648   \n",
       "5        -0.119723                   0             0.486329   \n",
       "\n",
       "   thirdMomentSignals  fourthMomentSignals  \n",
       "0           -0.032691             0.765973  \n",
       "1           -0.040271             0.577769  \n",
       "2           -0.044838             0.636264  \n",
       "3           -0.000368             0.005724  \n",
       "4           -0.021025             0.544961  \n",
       "5           -0.040605             0.366578  "
      ]
     },
     "execution_count": 11,
     "metadata": {},
     "output_type": "execute_result"
    }
   ],
   "source": [
    "sineAnalytics = pd.read_csv(\"sineAnalytics.csv\")\n",
    "sineAnalytics"
   ]
  },
  {
   "cell_type": "code",
   "execution_count": 33,
   "metadata": {},
   "outputs": [
    {
     "data": {
      "text/plain": [
       "<matplotlib.legend.Legend at 0x1d10c7c8f98>"
      ]
     },
     "execution_count": 33,
     "metadata": {},
     "output_type": "execute_result"
    },
    {
     "data": {
      "image/png": "[encoded data removed]",
      "text/plain": [
       "<Figure size 576x360 with 1 Axes>"
      ]
     },
     "metadata": {
      "needs_background": "light"
     },
     "output_type": "display_data"
    }
   ],
   "source": [
    "fig, ax = plt.subplots(figsize=(8,5))\n",
    "ax.plot(stepAnalytics.signalsNamesOrdered, stepAnalytics.skewnessSignals, 'o', label=\"stepAnalytics\")\n",
    "ax.plot(sineAnalytics.signalsNamesOrdered, sineAnalytics.skewnessSignals, 'o', label=\"sineAnalytics\")\n",
    "ax.plot(rampAnalytics.signalsNamesOrdered, rampAnalytics.skewnessSignals, 'o', label=\"rampAnalytics\")\n",
    "ax.set_title(\"skewnessSignals\")\n",
    "ax.legend()"
   ]
  },
  {
   "cell_type": "code",
   "execution_count": 32,
   "metadata": {},
   "outputs": [
    {
     "data": {
      "text/plain": [
       "<matplotlib.legend.Legend at 0x1d10c747dd8>"
      ]
     },
     "execution_count": 32,
     "metadata": {},
     "output_type": "execute_result"
    },
    {
     "data": {
      "image/png": "[encoded data removed]",
      "text/plain": [
       "<Figure size 576x360 with 1 Axes>"
      ]
     },
     "metadata": {
      "needs_background": "light"
     },
     "output_type": "display_data"
    }
   ],
   "source": [
    "fig, ax = plt.subplots(figsize=(8,5))\n",
    "ax.plot(stepAnalytics.signalsNamesOrdered, stepAnalytics.meanSignals, 'o', label=\"stepAnalytics\")\n",
    "ax.plot(sineAnalytics.signalsNamesOrdered, sineAnalytics.meanSignals, 'o', label=\"sineAnalytics\")\n",
    "ax.plot(rampAnalytics.signalsNamesOrdered, rampAnalytics.meanSignals, 'o', label=\"rampAnalytics\")\n",
    "ax.set_title(\"meanSignals\")\n",
    "ax.legend()"
   ]
  },
  {
   "cell_type": "code",
   "execution_count": 34,
   "metadata": {},
   "outputs": [
    {
     "data": {
      "text/plain": [
       "<matplotlib.legend.Legend at 0x1d10c835e48>"
      ]
     },
     "execution_count": 34,
     "metadata": {},
     "output_type": "execute_result"
    },
    {
     "data": {
      "image/png": "[encoded data removed]",
      "text/plain": [
       "<Figure size 576x360 with 1 Axes>"
      ]
     },
     "metadata": {
      "needs_background": "light"
     },
     "output_type": "display_data"
    }
   ],
   "source": [
    "fig, ax = plt.subplots(figsize=(8,5))\n",
    "ax.plot(stepAnalytics.signalsNamesOrdered, stepAnalytics.standardDeviationSignals, 'o', label=\"stepAnalytics\")\n",
    "ax.plot(sineAnalytics.signalsNamesOrdered, sineAnalytics.standardDeviationSignals, 'o', label=\"sineAnalytics\")\n",
    "ax.plot(rampAnalytics.signalsNamesOrdered, rampAnalytics.standardDeviationSignals, 'o', label=\"rampAnalytics\")\n",
    "ax.set_title(\"meanSignals\")\n",
    "ax.legend()"
   ]
  },
  {
   "cell_type": "code",
   "execution_count": 36,
   "metadata": {},
   "outputs": [
    {
     "data": {
      "text/plain": [
       "<matplotlib.legend.Legend at 0x1d10c9d3c18>"
      ]
     },
     "execution_count": 36,
     "metadata": {},
     "output_type": "execute_result"
    },
    {
     "data": {
      "image/png": "[encoded data removed]",
      "text/plain": [
       "<Figure size 576x360 with 1 Axes>"
      ]
     },
     "metadata": {
      "needs_background": "light"
     },
     "output_type": "display_data"
    }
   ],
   "source": [
    "fig, ax = plt.subplots(figsize=(8,5))\n",
    "ax.plot(stepAnalytics.signalsNamesOrdered, stepAnalytics.secondMomentSignals, 'o', label=\"stepAnalytics\")\n",
    "ax.plot(sineAnalytics.signalsNamesOrdered, sineAnalytics.secondMomentSignals, 'o', label=\"sineAnalytics\")\n",
    "ax.plot(rampAnalytics.signalsNamesOrdered, rampAnalytics.secondMomentSignals, 'o', label=\"rampAnalytics\")\n",
    "ax.set_title(\"secondMomentSignals\")\n",
    "ax.legend()"
   ]
  },
  {
   "cell_type": "code",
   "execution_count": 38,
   "metadata": {},
   "outputs": [
    {
     "data": {
      "text/plain": [
       "<matplotlib.legend.Legend at 0x1d10c86e2e8>"
      ]
     },
     "execution_count": 38,
     "metadata": {},
     "output_type": "execute_result"
    },
    {
     "data": {
      "image/png": "[encoded data removed]",
      "text/plain": [
       "<Figure size 576x360 with 1 Axes>"
      ]
     },
     "metadata": {
      "needs_background": "light"
     },
     "output_type": "display_data"
    }
   ],
   "source": [
    "fig, ax = plt.subplots(figsize=(8,5))\n",
    "ax.plot(stepAnalytics.signalsNamesOrdered, stepAnalytics.thirdMomentSignals, 'o', label=\"stepAnalytics\")\n",
    "ax.plot(sineAnalytics.signalsNamesOrdered, sineAnalytics.thirdMomentSignals, 'o', label=\"sineAnalytics\")\n",
    "ax.plot(rampAnalytics.signalsNamesOrdered, rampAnalytics.thirdMomentSignals, 'o', label=\"rampAnalytics\")\n",
    "ax.set_title(\"thirdMomentSignals\")\n",
    "ax.legend()"
   ]
  },
  {
   "cell_type": "code",
   "execution_count": 40,
   "metadata": {},
   "outputs": [
    {
     "data": {
      "text/plain": [
       "<matplotlib.legend.Legend at 0x1d10c8a2e80>"
      ]
     },
     "execution_count": 40,
     "metadata": {},
     "output_type": "execute_result"
    },
    {
     "data": {
      "image/png": "[encoded data removed]",
      "text/plain": [
       "<Figure size 576x360 with 1 Axes>"
      ]
     },
     "metadata": {
      "needs_background": "light"
     },
     "output_type": "display_data"
    }
   ],
   "source": [
    "fig, ax = plt.subplots(figsize=(8,5))\n",
    "ax.plot(stepAnalytics.signalsNamesOrdered, stepAnalytics.fourthMomentSignals, 'o', label=\"stepAnalytics\")\n",
    "ax.plot(sineAnalytics.signalsNamesOrdered, sineAnalytics.fourthMomentSignals, 'o', label=\"sineAnalytics\")\n",
    "ax.plot(rampAnalytics.signalsNamesOrdered, rampAnalytics.fourthMomentSignals, 'o', label=\"rampAnalytics\")\n",
    "ax.set_title(\"fourthMomentSignals\")\n",
    "ax.legend()"
   ]
  },
  {
   "cell_type": "code",
   "execution_count": 37,
   "metadata": {},
   "outputs": [
    {
     "data": {
      "text/plain": [
       "<matplotlib.legend.Legend at 0x1d10ca2be48>"
      ]
     },
     "execution_count": 37,
     "metadata": {},
     "output_type": "execute_result"
    },
    {
     "data": {
      "image/png": "[encoded data removed]",
      "text/plain": [
       "<Figure size 576x360 with 1 Axes>"
      ]
     },
     "metadata": {
      "needs_background": "light"
     },
     "output_type": "display_data"
    }
   ],
   "source": [
    "fig, ax = plt.subplots(figsize=(8,5))\n",
    "ax.plot(stepAnalytics.signalsNamesOrdered, stepAnalytics.kurtosisSignals, 'o', label=\"stepAnalytics\")\n",
    "ax.plot(sineAnalytics.signalsNamesOrdered, sineAnalytics.kurtosisSignals, 'o', label=\"sineAnalytics\")\n",
    "ax.plot(rampAnalytics.signalsNamesOrdered, rampAnalytics.kurtosisSignals, 'o', label=\"rampAnalytics\")\n",
    "ax.set_title(\"kurtosisSignals\")\n",
    "ax.legend()"
   ]
  },
  {
   "cell_type": "code",
   "execution_count": null,
   "metadata": {},
   "outputs": [],
   "source": []
  }
 ],
 "metadata": {
  "kernelspec": {
   "display_name": "Python 3",
   "language": "python",
   "name": "python3"
  },
  "language_info": {
   "codemirror_mode": {
    "name": "ipython",
    "version": 3
   },
   "file_extension": ".py",
   "mimetype": "text/x-python",
   "name": "python",
   "nbconvert_exporter": "python",
   "pygments_lexer": "ipython3",
   "version": "3.7.3"
  }
 },
 "nbformat": 4,
 "nbformat_minor": 2
}
